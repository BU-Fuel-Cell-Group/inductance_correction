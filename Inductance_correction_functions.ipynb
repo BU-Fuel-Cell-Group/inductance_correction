{
 "cells": [
  {
   "cell_type": "markdown",
   "id": "09c3adf7",
   "metadata": {},
   "source": [
    "# Impedance Correction Functions\n",
    "\n",
    "This code was written for easy EIS data processing in Python. Included below are functions for filtering data via the LinKK test, correcting for inductance (both automatically calculated and known), and removal ohmic resistance (automatically calculated and manual). \n",
    "\n",
    "These functions rely on the packages imported below, but particularly the impedance.py package, which is cited here:"
   ]
  },
  {
   "cell_type": "markdown",
   "id": "03faade1",
   "metadata": {},
   "source": [
    "Murbach et al., (2020). impedance.py: A Python package for electrochemical impedance analysis. Journal of Open Source Software, 5(52), 2349, https://doi.org/10.21105/joss.02349"
   ]
  },
  {
   "cell_type": "code",
   "execution_count": 3,
   "id": "d26aaffd",
   "metadata": {},
   "outputs": [],
   "source": [
    "import impedance\n",
    "import csv\n",
    "import pandas as pd\n",
    "from impedance.models.circuits import CustomCircuit\n",
    "import cmath\n",
    "import numpy as np\n",
    "import matplotlib.pyplot as plt\n",
    "from impedance.visualization import plot_nyquist, plot_residuals, plot_bode\n",
    "from impedance import preprocessing\n",
    "from impedance.validation import linKK\n",
    "\n",
    "%matplotlib inline"
   ]
  },
  {
   "cell_type": "markdown",
   "id": "1e674254",
   "metadata": {},
   "source": [
    "# Functions"
   ]
  },
  {
   "cell_type": "markdown",
   "id": "7b2044de",
   "metadata": {},
   "source": [
    "## Manual Inductance Correction\n",
    "This function takes a known impedance and corrects a given EIS spectrum. Inputs include the frequency array, Z array, and the inductance. The function returns the frequency array and corrected complex impedance array."
   ]
  },
  {
   "cell_type": "code",
   "execution_count": 4,
   "id": "d77a5ddb",
   "metadata": {},
   "outputs": [],
   "source": [
    "def correct_known_inductance(f,Z,L):\n",
    "    Z_real=np.real(Z)\n",
    "    Z_imaginary=np.imag(Z)\n",
    "    Z_imaginary_corrected=[]\n",
    "    l=len(Z_imaginary)\n",
    "    for i in range(l):\n",
    "        Z_imaginary_corrected.append(Z_imaginary[i]-L*2*np.pi*f[i])\n",
    "        \n",
    "    Z_corrected=[]\n",
    "    for i in range(l):\n",
    "        Z_corrected.append(complex(Z_real[i],Z_imaginary_corrected[i]))\n",
    "    \n",
    "    return(np.array(f), np.array(Z_corrected))"
   ]
  },
  {
   "cell_type": "markdown",
   "id": "aff8ba31",
   "metadata": {},
   "source": [
    "## Automatic Inductance Correction\n",
    "The impedance correction automatically corrects for the impedance of your testing system by fitting f vs. Z_imaginary at high frequency. The range of frequencies can be customized as desired. The function takes a frequency array, Z array (which must be complex), and the minimum and maximum frequencies you'd like to fit at. This function returns the frequency array, corrected impedance (complex), and the inductance L.\n",
    "\n",
    "Typically, inductance is fit to points where f [Hz] > 10^4."
   ]
  },
  {
   "cell_type": "code",
   "execution_count": 5,
   "id": "786884fc",
   "metadata": {},
   "outputs": [],
   "source": [
    "def correct_inductance(f,Z,f_min, f_max):\n",
    "    data= {'Frequency': f,\n",
    "        'Z_real': np.real(Z),\n",
    "        'Z_imaginary' : np.imag(Z)\n",
    "        }\n",
    "    df = pd.DataFrame(data)\n",
    "    df_correction=df[df['Frequency']>f_min]\n",
    "    linear_model=np.polyfit(df_correction['Frequency'],df_correction['Z_imaginary'],1)\n",
    "    p = np.poly1d(linear_model)\n",
    "    x_s=np.arange(f_min,f_max)\n",
    "    L=linear_model[0]/(2*np.pi)\n",
    "    \n",
    "    Z_imaginary=df['Z_imaginary'].to_numpy()\n",
    "    \n",
    "    Z_real=np.real(Z)\n",
    "    Z_imaginary_corrected=[]\n",
    "    l=len(Z_imaginary)\n",
    "    for i in range(l):\n",
    "        Z_imaginary_corrected.append(Z_imaginary[i]-L*2*np.pi*f[i])\n",
    "        \n",
    "    Z_corrected=[]\n",
    "    for i in range(l):\n",
    "        Z_corrected.append(complex(Z_real[i],Z_imaginary_corrected[i]))\n",
    "    \n",
    "    return(np.array(f), np.array(Z_corrected),L , df['Frequency'], df['Z_imaginary'], x_s, p(x_s))"
   ]
  },
  {
   "cell_type": "markdown",
   "id": "d84964fe",
   "metadata": {},
   "source": [
    "## Ohmic Resistance Correction\n",
    "remove_ohmic automatically removes ohmic resistance and any points below the X axis. Input f and Z, returns f_trim and Z_trim. \n",
    "\n",
    "***Note: ohmic resistance is automatically calculated to be the Z\" value of the highest frequency point that has a positive Z' value, and is approximate. For a more exact correction, fit your spectrum with an equivalent circuit and use remove_ohmic_manual.***"
   ]
  },
  {
   "cell_type": "code",
   "execution_count": 6,
   "id": "9499930d",
   "metadata": {},
   "outputs": [],
   "source": [
    "def remove_ohmic(f,Z):\n",
    "    f_trim, Z_trim = preprocessing.ignoreBelowX(f, Z) #removes Z values where Z[im]<0\n",
    "    Z_trim_r=np.real(Z_trim)\n",
    "    Z_trim_i=np.imag(Z_trim)\n",
    "    R_ohmic=Z_trim_r[0]\n",
    "    for i in range(len(Z_trim_r)):\n",
    "        Z_trim_r[i]=Z_trim_r[i]-R_ohmic\n",
    "        \n",
    "    for i in range(len(Z_trim_r)):\n",
    "        Z_trim[i]=complex(Z_trim_r[i],Z_trim_i[i])\n",
    "    \n",
    "    return(f_trim,Z_trim)"
   ]
  },
  {
   "cell_type": "markdown",
   "id": "2c80a9d1",
   "metadata": {},
   "source": [
    "remove_ohmic_manual removes a given ohmic resistance (R here) from the EIS spectrum. This is handy if you have already fit your EIS spectrum with an equivalent circuit and know R_ohmic already."
   ]
  },
  {
   "cell_type": "code",
   "execution_count": 7,
   "id": "533992da",
   "metadata": {},
   "outputs": [],
   "source": [
    "#manual ohmic resistance correction\n",
    "def remove_ohmic_manual(f,Z,R):\n",
    "    f_trim, Z_trim = preprocessing.ignoreBelowX(f, Z) #removes Z values where Z[im]<0\n",
    "    Z_trim_r=np.real(Z_trim)\n",
    "    Z_trim_i=np.imag(Z_trim)\n",
    "    R_ohmic=R\n",
    "    for i in range(len(Z_trim_r)):\n",
    "        Z_trim_r[i]=Z_trim_r[i]-R_ohmic\n",
    "        \n",
    "    for i in range(len(Z_trim_r)):\n",
    "        Z_trim[i]=complex(Z_trim_r[i],Z_trim_i[i])\n",
    "    \n",
    "    return(f_trim,Z_trim)"
   ]
  },
  {
   "cell_type": "markdown",
   "id": "a4fb36be",
   "metadata": {},
   "source": [
    "## Outlier correction\n",
    "The \"clean_linkk\" function removes any data points that deviate more than a certain percentage from the LinKK fit of our EIS data. The function takes frequency data, Z, and p (which is the maximum fractional acceptable error) and removes points that do not meet this threshold. The function then returns the corrected frequency and Z arrays."
   ]
  },
  {
   "cell_type": "code",
   "execution_count": 8,
   "id": "dd277386",
   "metadata": {},
   "outputs": [],
   "source": [
    "def clean_linkk(f,Z,p):\n",
    "    M, mu, Z_linKK, res_real, res_imag = linKK(f, Z, c=.5, max_M=100, fit_type='complex', add_cap=True)\n",
    "    data= {'Frequency': f,\n",
    "        'Z_real': np.real(Z),\n",
    "        'Z_imaginary' : np.imag(Z),\n",
    "        'Real Residuals': res_real,\n",
    "        'Imaginary Residuals': res_imag\n",
    "        }\n",
    "    read = pd.DataFrame(data)\n",
    "    read_filtered=read[abs(read['Real Residuals']<p)&abs(read['Imaginary Residuals']<p)]\n",
    "    f_f=read_filtered['Frequency'].to_numpy()\n",
    "    Z_r_f=read_filtered['Z_real'].to_numpy()\n",
    "    Z_i_f=read_filtered['Z_imaginary'].to_numpy()\n",
    "    l_f=len(Z_r_f)\n",
    "    Z_f=np.zeros(l_f,dtype=complex)\n",
    "\n",
    "    for i in range(l_f):\n",
    "        Z_f[i]=complex(Z_r_f[i],Z_i_f[i])\n",
    "        \n",
    "    return(np.array(f_f), np.array(Z_f))"
   ]
  }
 ],
 "metadata": {
  "kernelspec": {
   "display_name": "Python 3 (ipykernel)",
   "language": "python",
   "name": "python3"
  },
  "language_info": {
   "codemirror_mode": {
    "name": "ipython",
    "version": 3
   },
   "file_extension": ".py",
   "mimetype": "text/x-python",
   "name": "python",
   "nbconvert_exporter": "python",
   "pygments_lexer": "ipython3",
   "version": "3.8.13"
  }
 },
 "nbformat": 4,
 "nbformat_minor": 5
}
